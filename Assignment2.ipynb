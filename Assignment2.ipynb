{
 "cells": [
  {
   "cell_type": "code",
   "execution_count": 2,
   "id": "72474d94",
   "metadata": {},
   "outputs": [],
   "source": [
    "import pandas as pd"
   ]
  },
  {
   "cell_type": "code",
   "execution_count": 3,
   "id": "50beee79",
   "metadata": {},
   "outputs": [],
   "source": [
    "df=pd.read_csv('diabetes.csv')"
   ]
  },
  {
   "cell_type": "code",
   "execution_count": 4,
   "id": "13dcce31",
   "metadata": {},
   "outputs": [
    {
     "name": "stdout",
     "output_type": "stream",
     "text": [
      "   Pregnancies  Glucose  BloodPressure  SkinThickness  Insulin   BMI  \\\n",
      "0            6      148             72             35        0  33.6   \n",
      "1            1       85             66             29        0  26.6   \n",
      "2            8      183             64              0        0  23.3   \n",
      "3            1       89             66             23       94  28.1   \n",
      "4            0      137             40             35      168  43.1   \n",
      "\n",
      "   DiabetesPedigreeFunction  Age  Outcome  \n",
      "0                     0.627   50        1  \n",
      "1                     0.351   31        0  \n",
      "2                     0.672   32        1  \n",
      "3                     0.167   21        0  \n",
      "4                     2.288   33        1  \n"
     ]
    }
   ],
   "source": [
    "print(df.head())"
   ]
  },
  {
   "cell_type": "code",
   "execution_count": 5,
   "id": "963421be",
   "metadata": {},
   "outputs": [
    {
     "name": "stdout",
     "output_type": "stream",
     "text": [
      "<class 'pandas.core.frame.DataFrame'>\n",
      "RangeIndex: 768 entries, 0 to 767\n",
      "Data columns (total 9 columns):\n",
      " #   Column                    Non-Null Count  Dtype  \n",
      "---  ------                    --------------  -----  \n",
      " 0   Pregnancies               768 non-null    int64  \n",
      " 1   Glucose                   768 non-null    int64  \n",
      " 2   BloodPressure             768 non-null    int64  \n",
      " 3   SkinThickness             768 non-null    int64  \n",
      " 4   Insulin                   768 non-null    int64  \n",
      " 5   BMI                       768 non-null    float64\n",
      " 6   DiabetesPedigreeFunction  768 non-null    float64\n",
      " 7   Age                       768 non-null    int64  \n",
      " 8   Outcome                   768 non-null    int64  \n",
      "dtypes: float64(2), int64(7)\n",
      "memory usage: 54.1 KB\n",
      "None\n"
     ]
    }
   ],
   "source": [
    "print(df.info())"
   ]
  },
  {
   "cell_type": "code",
   "execution_count": 6,
   "id": "8a147dcb",
   "metadata": {},
   "outputs": [
    {
     "data": {
      "text/plain": [
       "(768, 9)"
      ]
     },
     "execution_count": 6,
     "metadata": {},
     "output_type": "execute_result"
    }
   ],
   "source": [
    "df.shape"
   ]
  },
  {
   "cell_type": "code",
   "execution_count": 7,
   "id": "7c7fe99d",
   "metadata": {},
   "outputs": [
    {
     "name": "stdout",
     "output_type": "stream",
     "text": [
      "   Pregnancies  Glucose  BloodPressure  SkinThickness  Insulin   BMI  \\\n",
      "0            6      148             72             35        0  33.6   \n",
      "1            1       85             66             29        0  26.6   \n",
      "2            8      183             64              0        0  23.3   \n",
      "3            1       89             66             23       94  28.1   \n",
      "4            0      137             40             35      168  43.1   \n",
      "5            5      116             74              0        0  25.6   \n",
      "6            3       78             50             32       88  31.0   \n",
      "7           10      115              0              0        0  35.3   \n",
      "8            2      197             70             45      543  30.5   \n",
      "9            8      125             96              0        0   0.0   \n",
      "\n",
      "   DiabetesPedigreeFunction  Age  Outcome  \n",
      "0                     0.627   50        1  \n",
      "1                     0.351   31        0  \n",
      "2                     0.672   32        1  \n",
      "3                     0.167   21        0  \n",
      "4                     2.288   33        1  \n",
      "5                     0.201   30        0  \n",
      "6                     0.248   26        1  \n",
      "7                     0.134   29        0  \n",
      "8                     0.158   53        1  \n",
      "9                     0.232   54        1  \n"
     ]
    }
   ],
   "source": [
    "a=df.head(10)\n",
    "print(a)"
   ]
  },
  {
   "cell_type": "code",
   "execution_count": 8,
   "id": "6acdd0da",
   "metadata": {},
   "outputs": [
    {
     "name": "stdout",
     "output_type": "stream",
     "text": [
      "   Glucose  BloodPressure   BMI\n",
      "0      148             72  33.6\n",
      "1       85             66  26.6\n",
      "2      183             64  23.3\n",
      "3       89             66  28.1\n",
      "4      137             40  43.1\n",
      "5      116             74  25.6\n",
      "6       78             50  31.0\n",
      "7      115              0  35.3\n",
      "8      197             70  30.5\n",
      "9      125             96   0.0\n"
     ]
    }
   ],
   "source": [
    "b=a[['Glucose','BloodPressure','BMI']]\n",
    "print(b)"
   ]
  },
  {
   "cell_type": "code",
   "execution_count": 9,
   "id": "d9a2b0d8",
   "metadata": {},
   "outputs": [
    {
     "name": "stdout",
     "output_type": "stream",
     "text": [
      "          Glucose  BloodPressure        BMI\n",
      "count   10.000000      10.000000  10.000000\n",
      "mean   127.300000      59.800000  27.710000\n",
      "std     40.075068      25.654976  11.259016\n",
      "min     78.000000       0.000000   0.000000\n",
      "25%     95.500000      53.500000  25.850000\n",
      "50%    120.500000      66.000000  29.300000\n",
      "75%    145.250000      71.500000  32.950000\n",
      "max    197.000000      96.000000  43.100000\n"
     ]
    }
   ],
   "source": [
    "print(b.describe())"
   ]
  },
  {
   "cell_type": "code",
   "execution_count": 12,
   "id": "3c45205e",
   "metadata": {},
   "outputs": [
    {
     "name": "stdout",
     "output_type": "stream",
     "text": [
      "               Glucose    BMI\n",
      "BloodPressure                \n",
      "0                115.0  35.30\n",
      "40               137.0  43.10\n",
      "50                78.0  31.00\n",
      "64               183.0  23.30\n",
      "66                87.0  27.35\n",
      "70               197.0  30.50\n",
      "72               148.0  33.60\n",
      "74               116.0  25.60\n",
      "96               125.0   0.00\n"
     ]
    }
   ],
   "source": [
    "grouped_data=b.groupby('BloodPressure').mean()\n",
    "print(grouped_data)"
   ]
  },
  {
   "cell_type": "code",
   "execution_count": 19,
   "id": "4d686bb9",
   "metadata": {},
   "outputs": [
    {
     "name": "stdout",
     "output_type": "stream",
     "text": [
      "   Glucose  BloodPressure   BMI\n",
      "0      148             72  33.6\n",
      "2      183             64  23.3\n",
      "4      137             40  43.1\n",
      "5      116             74  25.6\n",
      "7      115              0  35.3\n",
      "8      197             70  30.5\n",
      "9      125             96   0.0\n"
     ]
    }
   ],
   "source": [
    "filtered_data=b[b['Glucose']>100]\n",
    "print(filtered_data)"
   ]
  },
  {
   "cell_type": "code",
   "execution_count": 20,
   "id": "3434e353",
   "metadata": {},
   "outputs": [
    {
     "name": "stdout",
     "output_type": "stream",
     "text": [
      "   Glucose  BloodPressure   BMI\n",
      "8      197             70  30.5\n",
      "2      183             64  23.3\n",
      "0      148             72  33.6\n",
      "4      137             40  43.1\n",
      "9      125             96   0.0\n",
      "5      116             74  25.6\n",
      "7      115              0  35.3\n",
      "3       89             66  28.1\n",
      "1       85             66  26.6\n",
      "6       78             50  31.0\n"
     ]
    }
   ],
   "source": [
    "sorted_data = b.sort_values('Glucose', ascending=False)\n",
    "print(sorted_data)"
   ]
  },
  {
   "cell_type": "code",
   "execution_count": 48,
   "id": "d14cc8ab",
   "metadata": {},
   "outputs": [],
   "source": [
    "df2=pd.read_csv('diab2.csv')"
   ]
  },
  {
   "cell_type": "code",
   "execution_count": 49,
   "id": "dbe9a10f",
   "metadata": {},
   "outputs": [
    {
     "name": "stdout",
     "output_type": "stream",
     "text": [
      "   Diabetes_binary  HighBP  HighChol  CholCheck   BMI  Smoker  Stroke  \\\n",
      "0              0.0     1.0       0.0        1.0  26.0     0.0     0.0   \n",
      "1              0.0     1.0       1.0        1.0  26.0     1.0     1.0   \n",
      "2              0.0     0.0       0.0        1.0  26.0     0.0     0.0   \n",
      "3              0.0     1.0       1.0        1.0  28.0     1.0     0.0   \n",
      "4              0.0     0.0       0.0        1.0  29.0     1.0     0.0   \n",
      "\n",
      "   HeartDiseaseorAttack  PhysActivity  Fruits  ...  AnyHealthcare  \\\n",
      "0                   0.0           1.0     0.0  ...            1.0   \n",
      "1                   0.0           0.0     1.0  ...            1.0   \n",
      "2                   0.0           1.0     1.0  ...            1.0   \n",
      "3                   0.0           1.0     1.0  ...            1.0   \n",
      "4                   0.0           1.0     1.0  ...            1.0   \n",
      "\n",
      "   NoDocbcCost  GenHlth  MentHlth  PhysHlth  DiffWalk  Sex   Age  Education  \\\n",
      "0          0.0      3.0       5.0      30.0       0.0  1.0   4.0        6.0   \n",
      "1          0.0      3.0       0.0       0.0       0.0  1.0  12.0        6.0   \n",
      "2          0.0      1.0       0.0      10.0       0.0  1.0  13.0        6.0   \n",
      "3          0.0      3.0       0.0       3.0       0.0  1.0  11.0        6.0   \n",
      "4          0.0      2.0       0.0       0.0       0.0  0.0   8.0        5.0   \n",
      "\n",
      "   Income  \n",
      "0     8.0  \n",
      "1     8.0  \n",
      "2     8.0  \n",
      "3     8.0  \n",
      "4     8.0  \n",
      "\n",
      "[5 rows x 22 columns]\n"
     ]
    }
   ],
   "source": [
    "print(df2.head())"
   ]
  },
  {
   "cell_type": "code",
   "execution_count": 50,
   "id": "b49493d6",
   "metadata": {},
   "outputs": [
    {
     "data": {
      "text/plain": [
       "(70692, 22)"
      ]
     },
     "execution_count": 50,
     "metadata": {},
     "output_type": "execute_result"
    }
   ],
   "source": [
    "df2.shape"
   ]
  },
  {
   "cell_type": "code",
   "execution_count": 51,
   "id": "85201514",
   "metadata": {},
   "outputs": [
    {
     "name": "stdout",
     "output_type": "stream",
     "text": [
      "    Diabetes_binary  HighBP  HighChol  CholCheck   BMI  Smoker  Stroke  \\\n",
      "0               0.0     1.0       0.0        1.0  26.0     0.0     0.0   \n",
      "1               0.0     1.0       1.0        1.0  26.0     1.0     1.0   \n",
      "2               0.0     0.0       0.0        1.0  26.0     0.0     0.0   \n",
      "3               0.0     1.0       1.0        1.0  28.0     1.0     0.0   \n",
      "4               0.0     0.0       0.0        1.0  29.0     1.0     0.0   \n",
      "5               0.0     0.0       0.0        1.0  18.0     0.0     0.0   \n",
      "6               0.0     0.0       1.0        1.0  26.0     1.0     0.0   \n",
      "7               0.0     0.0       0.0        1.0  31.0     1.0     0.0   \n",
      "8               0.0     0.0       0.0        1.0  32.0     0.0     0.0   \n",
      "9               0.0     0.0       0.0        1.0  27.0     1.0     0.0   \n",
      "10              0.0     1.0       1.0        1.0  24.0     1.0     0.0   \n",
      "11              0.0     0.0       0.0        1.0  21.0     0.0     0.0   \n",
      "12              0.0     1.0       1.0        1.0  27.0     0.0     0.0   \n",
      "13              0.0     1.0       0.0        1.0  58.0     0.0     0.0   \n",
      "14              0.0     0.0       1.0        1.0  29.0     1.0     0.0   \n",
      "\n",
      "    HeartDiseaseorAttack  PhysActivity  Fruits  ...  AnyHealthcare  \\\n",
      "0                    0.0           1.0     0.0  ...            1.0   \n",
      "1                    0.0           0.0     1.0  ...            1.0   \n",
      "2                    0.0           1.0     1.0  ...            1.0   \n",
      "3                    0.0           1.0     1.0  ...            1.0   \n",
      "4                    0.0           1.0     1.0  ...            1.0   \n",
      "5                    0.0           1.0     1.0  ...            0.0   \n",
      "6                    0.0           1.0     1.0  ...            1.0   \n",
      "7                    0.0           0.0     1.0  ...            1.0   \n",
      "8                    0.0           1.0     1.0  ...            1.0   \n",
      "9                    0.0           0.0     1.0  ...            1.0   \n",
      "10                   1.0           1.0     1.0  ...            1.0   \n",
      "11                   0.0           1.0     1.0  ...            1.0   \n",
      "12                   0.0           1.0     1.0  ...            1.0   \n",
      "13                   0.0           0.0     1.0  ...            1.0   \n",
      "14                   0.0           1.0     1.0  ...            1.0   \n",
      "\n",
      "    NoDocbcCost  GenHlth  MentHlth  PhysHlth  DiffWalk  Sex   Age  Education  \\\n",
      "0           0.0      3.0       5.0      30.0       0.0  1.0   4.0        6.0   \n",
      "1           0.0      3.0       0.0       0.0       0.0  1.0  12.0        6.0   \n",
      "2           0.0      1.0       0.0      10.0       0.0  1.0  13.0        6.0   \n",
      "3           0.0      3.0       0.0       3.0       0.0  1.0  11.0        6.0   \n",
      "4           0.0      2.0       0.0       0.0       0.0  0.0   8.0        5.0   \n",
      "5           0.0      2.0       7.0       0.0       0.0  0.0   1.0        4.0   \n",
      "6           0.0      1.0       0.0       0.0       0.0  1.0  13.0        5.0   \n",
      "7           0.0      4.0       0.0       0.0       0.0  1.0   6.0        4.0   \n",
      "8           0.0      3.0       0.0       0.0       0.0  0.0   3.0        6.0   \n",
      "9           0.0      3.0       0.0       6.0       0.0  1.0   6.0        4.0   \n",
      "10          0.0      3.0       0.0       4.0       0.0  0.0  12.0        4.0   \n",
      "11          0.0      1.0       0.0       0.0       0.0  1.0   4.0        6.0   \n",
      "12          0.0      2.0       0.0       0.0       0.0  1.0   7.0        6.0   \n",
      "13          0.0      3.0       3.0       3.0       0.0  1.0  10.0        4.0   \n",
      "14          0.0      1.0       0.0       0.0       1.0  0.0  10.0        5.0   \n",
      "\n",
      "    Income  \n",
      "0      8.0  \n",
      "1      8.0  \n",
      "2      8.0  \n",
      "3      8.0  \n",
      "4      8.0  \n",
      "5      7.0  \n",
      "6      6.0  \n",
      "7      3.0  \n",
      "8      8.0  \n",
      "9      4.0  \n",
      "10     6.0  \n",
      "11     8.0  \n",
      "12     8.0  \n",
      "13     6.0  \n",
      "14     1.0  \n",
      "\n",
      "[15 rows x 22 columns]\n"
     ]
    }
   ],
   "source": [
    "c=df2.head(15)\n",
    "print(c)"
   ]
  },
  {
   "cell_type": "code",
   "execution_count": 52,
   "id": "92d68891",
   "metadata": {},
   "outputs": [
    {
     "name": "stdout",
     "output_type": "stream",
     "text": [
      "     Age   BMI\n",
      "0    4.0  26.0\n",
      "1   12.0  26.0\n",
      "2   13.0  26.0\n",
      "3   11.0  28.0\n",
      "4    8.0  29.0\n",
      "5    1.0  18.0\n",
      "6   13.0  26.0\n",
      "7    6.0  31.0\n",
      "8    3.0  32.0\n",
      "9    6.0  27.0\n",
      "10  12.0  24.0\n",
      "11   4.0  21.0\n",
      "12   7.0  27.0\n",
      "13  10.0  58.0\n",
      "14  10.0  29.0\n"
     ]
    }
   ],
   "source": [
    "d=c[['Age','BMI']]\n",
    "print(d)"
   ]
  },
  {
   "cell_type": "code",
   "execution_count": 53,
   "id": "4faa6726",
   "metadata": {},
   "outputs": [
    {
     "name": "stdout",
     "output_type": "stream",
     "text": [
      "             Age        BMI\n",
      "count  15.000000  15.000000\n",
      "mean    8.000000  28.533333\n",
      "std     3.909695   8.887123\n",
      "min     1.000000  18.000000\n",
      "25%     5.000000  26.000000\n",
      "50%     8.000000  27.000000\n",
      "75%    11.500000  29.000000\n",
      "max    13.000000  58.000000\n"
     ]
    }
   ],
   "source": [
    "print(d.describe())"
   ]
  },
  {
   "cell_type": "code",
   "execution_count": 64,
   "id": "041a0816",
   "metadata": {},
   "outputs": [
    {
     "name": "stdout",
     "output_type": "stream",
     "text": [
      "   Pregnancies  Glucose  BloodPressure  SkinThickness  Insulin   BMI  \\\n",
      "0            6      148             72             35        0  33.6   \n",
      "1            1       85             66             29        0  26.6   \n",
      "2            8      183             64              0        0  23.3   \n",
      "3            1       89             66             23       94  28.1   \n",
      "4            0      137             40             35      168  43.1   \n",
      "\n",
      "   DiabetesPedigreeFunction  Age  Outcome  \n",
      "0                     0.627   50        1  \n",
      "1                     0.351   31        0  \n",
      "2                     0.672   32        1  \n",
      "3                     0.167   21        0  \n",
      "4                     2.288   33        1  \n"
     ]
    }
   ],
   "source": [
    "import seaborn as sns\n",
    "import matplotlib.pyplot as plt\n",
    "df=pd.read_csv('diabetes.csv')\n",
    "print(df.head())"
   ]
  },
  {
   "cell_type": "code",
   "execution_count": 71,
   "id": "bef77191",
   "metadata": {},
   "outputs": [
    {
     "name": "stdout",
     "output_type": "stream",
     "text": [
      "   Pregnancies  Glucose  BloodPressure  SkinThickness  Insulin   BMI  \\\n",
      "0            6      148             72             35        0  33.6   \n",
      "1            1       85             66             29        0  26.6   \n",
      "2            8      183             64              0        0  23.3   \n",
      "3            1       89             66             23       94  28.1   \n",
      "4            0      137             40             35      168  43.1   \n",
      "5            5      116             74              0        0  25.6   \n",
      "6            3       78             50             32       88  31.0   \n",
      "7           10      115              0              0        0  35.3   \n",
      "8            2      197             70             45      543  30.5   \n",
      "9            8      125             96              0        0   0.0   \n",
      "\n",
      "   DiabetesPedigreeFunction  Age  Outcome  \n",
      "0                     0.627   50        1  \n",
      "1                     0.351   31        0  \n",
      "2                     0.672   32        1  \n",
      "3                     0.167   21        0  \n",
      "4                     2.288   33        1  \n",
      "5                     0.201   30        0  \n",
      "6                     0.248   26        1  \n",
      "7                     0.134   29        0  \n",
      "8                     0.158   53        1  \n",
      "9                     0.232   54        1  \n"
     ]
    }
   ],
   "source": [
    "a=df.head(10)\n",
    "print(a)"
   ]
  },
  {
   "cell_type": "code",
   "execution_count": 72,
   "id": "3ca07d34",
   "metadata": {},
   "outputs": [
    {
     "name": "stderr",
     "output_type": "stream",
     "text": [
      "C:\\Users\\Public\\anaconda3\\lib\\site-packages\\seaborn\\_decorators.py:36: FutureWarning: Pass the following variables as keyword args: x, y. From version 0.12, the only valid positional argument will be `data`, and passing other arguments without an explicit keyword will result in an error or misinterpretation.\n",
      "  warnings.warn(\n"
     ]
    },
    {
     "name": "stdout",
     "output_type": "stream",
     "text": [
      "AxesSubplot(0.125,0.125;0.775x0.755)\n"
     ]
    },
    {
     "data": {
      "image/png": "[encoded data removed]",
      "text/plain": [
       "<Figure size 432x288 with 1 Axes>"
      ]
     },
     "metadata": {
      "needs_background": "light"
     },
     "output_type": "display_data"
    }
   ],
   "source": [
    "z=sns.lineplot(a['BloodPressure'],a['Glucose'])\n",
    "print(z)"
   ]
  },
  {
   "cell_type": "code",
   "execution_count": 73,
   "id": "11d25ced",
   "metadata": {},
   "outputs": [
    {
     "name": "stderr",
     "output_type": "stream",
     "text": [
      "C:\\Users\\Public\\anaconda3\\lib\\site-packages\\seaborn\\_decorators.py:36: FutureWarning: Pass the following variables as keyword args: x, y. From version 0.12, the only valid positional argument will be `data`, and passing other arguments without an explicit keyword will result in an error or misinterpretation.\n",
      "  warnings.warn(\n"
     ]
    },
    {
     "name": "stdout",
     "output_type": "stream",
     "text": [
      "AxesSubplot(0.125,0.125;0.775x0.755)\n"
     ]
    },
    {
     "data": {
      "image/png": "[encoded data removed]",
      "text/plain": [
       "<Figure size 432x288 with 1 Axes>"
      ]
     },
     "metadata": {
      "needs_background": "light"
     },
     "output_type": "display_data"
    }
   ],
   "source": [
    "z=sns.barplot(a['BloodPressure'],a['Glucose'])\n",
    "print(z)"
   ]
  },
  {
   "cell_type": "code",
   "execution_count": 76,
   "id": "997a581e",
   "metadata": {},
   "outputs": [
    {
     "name": "stderr",
     "output_type": "stream",
     "text": [
      "C:\\Users\\Public\\anaconda3\\lib\\site-packages\\seaborn\\_decorators.py:36: FutureWarning: Pass the following variables as keyword args: x, y. From version 0.12, the only valid positional argument will be `data`, and passing other arguments without an explicit keyword will result in an error or misinterpretation.\n",
      "  warnings.warn(\n"
     ]
    },
    {
     "name": "stdout",
     "output_type": "stream",
     "text": [
      "AxesSubplot(0.125,0.125;0.775x0.755)\n"
     ]
    },
    {
     "data": {
      "image/png": "[encoded data removed]",
      "text/plain": [
       "<Figure size 432x288 with 1 Axes>"
      ]
     },
     "metadata": {
      "needs_background": "light"
     },
     "output_type": "display_data"
    }
   ],
   "source": [
    "z=sns.scatterplot(a['BloodPressure'],a['Glucose'])\n",
    "print(z)"
   ]
  },
  {
   "cell_type": "code",
   "execution_count": 78,
   "id": "7fcb4542",
   "metadata": {},
   "outputs": [
    {
     "name": "stdout",
     "output_type": "stream",
     "text": [
      "AxesSubplot(0.125,0.125;0.775x0.755)\n"
     ]
    },
    {
     "name": "stderr",
     "output_type": "stream",
     "text": [
      "C:\\Users\\Public\\anaconda3\\lib\\site-packages\\seaborn\\_decorators.py:36: FutureWarning: Pass the following variable as a keyword arg: x. From version 0.12, the only valid positional argument will be `data`, and passing other arguments without an explicit keyword will result in an error or misinterpretation.\n",
      "  warnings.warn(\n"
     ]
    },
    {
     "data": {
      "image/png": "[encoded data removed]",
      "text/plain": [
       "<Figure size 432x288 with 1 Axes>"
      ]
     },
     "metadata": {
      "needs_background": "light"
     },
     "output_type": "display_data"
    }
   ],
   "source": [
    "z=sns.boxplot(a['Glucose'])\n",
    "print(z)"
   ]
  },
  {
   "cell_type": "code",
   "execution_count": 85,
   "id": "35d6011e",
   "metadata": {},
   "outputs": [
    {
     "name": "stdout",
     "output_type": "stream",
     "text": [
      "<seaborn.axisgrid.FacetGrid object at 0x000001C997A6F250>\n"
     ]
    },
    {
     "data": {
      "image/png": "[encoded data removed]",
      "text/plain": [
       "<Figure size 360x360 with 1 Axes>"
      ]
     },
     "metadata": {
      "needs_background": "light"
     },
     "output_type": "display_data"
    }
   ],
   "source": [
    "z=sns.displot(a['BloodPressure'])\n",
    "print(z)"
   ]
  },
  {
   "cell_type": "code",
   "execution_count": 13,
   "id": "91d1b56b",
   "metadata": {},
   "outputs": [],
   "source": [
    "import pandas as pd\n",
    "import numpy as np\n",
    "import seaborn as sns\n",
    "df = pd.read_csv('report.csv')"
   ]
  },
  {
   "cell_type": "code",
   "execution_count": 14,
   "id": "cc0eab9e",
   "metadata": {},
   "outputs": [
    {
     "data": {
      "text/plain": [
       "(312, 10)"
      ]
     },
     "execution_count": 14,
     "metadata": {},
     "output_type": "execute_result"
    }
   ],
   "source": [
    "df.shape"
   ]
  },
  {
   "cell_type": "code",
   "execution_count": 15,
   "id": "9cc2468b",
   "metadata": {},
   "outputs": [
    {
     "name": "stdout",
     "output_type": "stream",
     "text": [
      "   Overall rank Country or region  Year  Score  GDP per capita  \\\n",
      "0           154       Afghanistan  2019  3.203           0.350   \n",
      "1           145       Afghanistan  2018  3.632           0.332   \n",
      "2           107           Albania  2019  4.719           0.947   \n",
      "3           112           Albania  2018  4.586           0.916   \n",
      "4            88           Algeria  2019  5.211           1.002   \n",
      "5            84           Algeria  2018  5.295           0.979   \n",
      "6           142            Angola  2018  3.795           0.730   \n",
      "7            47         Argentina  2019  6.086           1.092   \n",
      "8            29         Argentina  2018  6.388           1.073   \n",
      "9           116           Armenia  2019  4.559           0.850   \n",
      "\n",
      "   Social support  Healthy life expectancy  Freedom to make life choices  \\\n",
      "0           0.517                    0.361                         0.000   \n",
      "1           0.537                    0.255                         0.085   \n",
      "2           0.848                    0.874                         0.383   \n",
      "3           0.817                    0.790                         0.419   \n",
      "4           1.160                    0.785                         0.086   \n",
      "5           1.154                    0.687                         0.077   \n",
      "6           1.125                    0.269                         0.000   \n",
      "7           1.432                    0.881                         0.471   \n",
      "8           1.468                    0.744                         0.570   \n",
      "9           1.055                    0.815                         0.283   \n",
      "\n",
      "   Generosity  Perceptions of corruption  \n",
      "0       0.158                      0.025  \n",
      "1       0.191                      0.036  \n",
      "2       0.178                      0.027  \n",
      "3       0.149                      0.032  \n",
      "4       0.073                      0.114  \n",
      "5       0.055                      0.135  \n",
      "6       0.079                      0.061  \n",
      "7       0.066                      0.050  \n",
      "8       0.062                      0.054  \n",
      "9       0.095                      0.064  \n"
     ]
    }
   ],
   "source": [
    "a=df.head(10)\n",
    "print(a)"
   ]
  },
  {
   "cell_type": "code",
   "execution_count": 16,
   "id": "b72b782a",
   "metadata": {},
   "outputs": [
    {
     "name": "stdout",
     "output_type": "stream",
     "text": [
      "  Country or region  Year  Score\n",
      "0       Afghanistan  2019  3.203\n",
      "1       Afghanistan  2018  3.632\n",
      "2           Albania  2019  4.719\n",
      "3           Albania  2018  4.586\n",
      "4           Algeria  2019  5.211\n",
      "5           Algeria  2018  5.295\n",
      "6            Angola  2018  3.795\n",
      "7         Argentina  2019  6.086\n",
      "8         Argentina  2018  6.388\n",
      "9           Armenia  2019  4.559\n"
     ]
    }
   ],
   "source": [
    "b=a[['Country or region','Year','Score']]\n",
    "print(b)"
   ]
  },
  {
   "cell_type": "code",
   "execution_count": 17,
   "id": "fa756b38",
   "metadata": {},
   "outputs": [
    {
     "data": {
      "text/html": [
       "<div>\n",
       "<style scoped>\n",
       "    .dataframe tbody tr th:only-of-type {\n",
       "        vertical-align: middle;\n",
       "    }\n",
       "\n",
       "    .dataframe tbody tr th {\n",
       "        vertical-align: top;\n",
       "    }\n",
       "\n",
       "    .dataframe thead th {\n",
       "        text-align: right;\n",
       "    }\n",
       "</style>\n",
       "<table border=\"1\" class=\"dataframe\">\n",
       "  <thead>\n",
       "    <tr style=\"text-align: right;\">\n",
       "      <th></th>\n",
       "      <th>Year</th>\n",
       "      <th>Score</th>\n",
       "    </tr>\n",
       "  </thead>\n",
       "  <tbody>\n",
       "    <tr>\n",
       "      <th>count</th>\n",
       "      <td>10.000000</td>\n",
       "      <td>10.00000</td>\n",
       "    </tr>\n",
       "    <tr>\n",
       "      <th>mean</th>\n",
       "      <td>2018.500000</td>\n",
       "      <td>4.74740</td>\n",
       "    </tr>\n",
       "    <tr>\n",
       "      <th>std</th>\n",
       "      <td>0.527046</td>\n",
       "      <td>1.03263</td>\n",
       "    </tr>\n",
       "    <tr>\n",
       "      <th>min</th>\n",
       "      <td>2018.000000</td>\n",
       "      <td>3.20300</td>\n",
       "    </tr>\n",
       "    <tr>\n",
       "      <th>25%</th>\n",
       "      <td>2018.000000</td>\n",
       "      <td>3.98600</td>\n",
       "    </tr>\n",
       "    <tr>\n",
       "      <th>50%</th>\n",
       "      <td>2018.500000</td>\n",
       "      <td>4.65250</td>\n",
       "    </tr>\n",
       "    <tr>\n",
       "      <th>75%</th>\n",
       "      <td>2019.000000</td>\n",
       "      <td>5.27400</td>\n",
       "    </tr>\n",
       "    <tr>\n",
       "      <th>max</th>\n",
       "      <td>2019.000000</td>\n",
       "      <td>6.38800</td>\n",
       "    </tr>\n",
       "  </tbody>\n",
       "</table>\n",
       "</div>"
      ],
      "text/plain": [
       "              Year     Score\n",
       "count    10.000000  10.00000\n",
       "mean   2018.500000   4.74740\n",
       "std       0.527046   1.03263\n",
       "min    2018.000000   3.20300\n",
       "25%    2018.000000   3.98600\n",
       "50%    2018.500000   4.65250\n",
       "75%    2019.000000   5.27400\n",
       "max    2019.000000   6.38800"
      ]
     },
     "execution_count": 17,
     "metadata": {},
     "output_type": "execute_result"
    }
   ],
   "source": [
    "b.describe()"
   ]
  },
  {
   "cell_type": "code",
   "execution_count": 18,
   "id": "98a792fc",
   "metadata": {},
   "outputs": [
    {
     "data": {
      "text/plain": [
       "0"
      ]
     },
     "execution_count": 18,
     "metadata": {},
     "output_type": "execute_result"
    }
   ],
   "source": [
    "df.duplicated().sum()"
   ]
  },
  {
   "cell_type": "code",
   "execution_count": 19,
   "id": "2f079f62",
   "metadata": {},
   "outputs": [
    {
     "data": {
      "text/plain": [
       "Overall rank                    0\n",
       "Country or region               0\n",
       "Year                            0\n",
       "Score                           0\n",
       "GDP per capita                  0\n",
       "Social support                  0\n",
       "Healthy life expectancy         0\n",
       "Freedom to make life choices    0\n",
       "Generosity                      0\n",
       "Perceptions of corruption       0\n",
       "dtype: int64"
      ]
     },
     "execution_count": 19,
     "metadata": {},
     "output_type": "execute_result"
    }
   ],
   "source": [
    "df.isnull().sum()"
   ]
  },
  {
   "cell_type": "code",
   "execution_count": 22,
   "id": "5f622cc9",
   "metadata": {},
   "outputs": [
    {
     "data": {
      "text/plain": [
       "<AxesSubplot:>"
      ]
     },
     "execution_count": 22,
     "metadata": {},
     "output_type": "execute_result"
    },
    {
     "data": {
      "image/png": "[encoded data removed]",
      "text/plain": [
       "<Figure size 432x288 with 1 Axes>"
      ]
     },
     "metadata": {
      "needs_background": "light"
     },
     "output_type": "display_data"
    }
   ],
   "source": [
    "b[['Score']].boxplot()"
   ]
  },
  {
   "cell_type": "code",
   "execution_count": 24,
   "id": "5b5a4a9c",
   "metadata": {},
   "outputs": [
    {
     "data": {
      "text/html": [
       "<div>\n",
       "<style scoped>\n",
       "    .dataframe tbody tr th:only-of-type {\n",
       "        vertical-align: middle;\n",
       "    }\n",
       "\n",
       "    .dataframe tbody tr th {\n",
       "        vertical-align: top;\n",
       "    }\n",
       "\n",
       "    .dataframe thead th {\n",
       "        text-align: right;\n",
       "    }\n",
       "</style>\n",
       "<table border=\"1\" class=\"dataframe\">\n",
       "  <thead>\n",
       "    <tr style=\"text-align: right;\">\n",
       "      <th></th>\n",
       "      <th>Overall rank</th>\n",
       "      <th>Year</th>\n",
       "      <th>Score</th>\n",
       "      <th>GDP per capita</th>\n",
       "      <th>Social support</th>\n",
       "      <th>Healthy life expectancy</th>\n",
       "      <th>Freedom to make life choices</th>\n",
       "      <th>Generosity</th>\n",
       "      <th>Perceptions of corruption</th>\n",
       "    </tr>\n",
       "  </thead>\n",
       "  <tbody>\n",
       "    <tr>\n",
       "      <th>Overall rank</th>\n",
       "      <td>1.000000e+00</td>\n",
       "      <td>-3.108836e-14</td>\n",
       "      <td>-0.991470</td>\n",
       "      <td>-0.834972</td>\n",
       "      <td>-0.856270</td>\n",
       "      <td>-0.694022</td>\n",
       "      <td>-0.726294</td>\n",
       "      <td>0.650060</td>\n",
       "      <td>-0.313442</td>\n",
       "    </tr>\n",
       "    <tr>\n",
       "      <th>Year</th>\n",
       "      <td>-3.108836e-14</td>\n",
       "      <td>1.000000e+00</td>\n",
       "      <td>0.008370</td>\n",
       "      <td>0.080368</td>\n",
       "      <td>-0.028480</td>\n",
       "      <td>0.409102</td>\n",
       "      <td>0.035731</td>\n",
       "      <td>0.068237</td>\n",
       "      <td>-0.108054</td>\n",
       "    </tr>\n",
       "    <tr>\n",
       "      <th>Score</th>\n",
       "      <td>-9.914697e-01</td>\n",
       "      <td>8.370435e-03</td>\n",
       "      <td>1.000000</td>\n",
       "      <td>0.887167</td>\n",
       "      <td>0.872604</td>\n",
       "      <td>0.746620</td>\n",
       "      <td>0.719865</td>\n",
       "      <td>-0.666384</td>\n",
       "      <td>0.369937</td>\n",
       "    </tr>\n",
       "    <tr>\n",
       "      <th>GDP per capita</th>\n",
       "      <td>-8.349718e-01</td>\n",
       "      <td>8.036810e-02</td>\n",
       "      <td>0.887167</td>\n",
       "      <td>1.000000</td>\n",
       "      <td>0.847328</td>\n",
       "      <td>0.845814</td>\n",
       "      <td>0.641237</td>\n",
       "      <td>-0.665077</td>\n",
       "      <td>0.420690</td>\n",
       "    </tr>\n",
       "    <tr>\n",
       "      <th>Social support</th>\n",
       "      <td>-8.562703e-01</td>\n",
       "      <td>-2.847963e-02</td>\n",
       "      <td>0.872604</td>\n",
       "      <td>0.847328</td>\n",
       "      <td>1.000000</td>\n",
       "      <td>0.533589</td>\n",
       "      <td>0.492830</td>\n",
       "      <td>-0.891343</td>\n",
       "      <td>0.469395</td>\n",
       "    </tr>\n",
       "    <tr>\n",
       "      <th>Healthy life expectancy</th>\n",
       "      <td>-6.940219e-01</td>\n",
       "      <td>4.091017e-01</td>\n",
       "      <td>0.746620</td>\n",
       "      <td>0.845814</td>\n",
       "      <td>0.533589</td>\n",
       "      <td>1.000000</td>\n",
       "      <td>0.718569</td>\n",
       "      <td>-0.317275</td>\n",
       "      <td>0.188633</td>\n",
       "    </tr>\n",
       "    <tr>\n",
       "      <th>Freedom to make life choices</th>\n",
       "      <td>-7.262944e-01</td>\n",
       "      <td>3.573113e-02</td>\n",
       "      <td>0.719865</td>\n",
       "      <td>0.641237</td>\n",
       "      <td>0.492830</td>\n",
       "      <td>0.718569</td>\n",
       "      <td>1.000000</td>\n",
       "      <td>-0.118527</td>\n",
       "      <td>-0.317722</td>\n",
       "    </tr>\n",
       "    <tr>\n",
       "      <th>Generosity</th>\n",
       "      <td>6.500602e-01</td>\n",
       "      <td>6.823733e-02</td>\n",
       "      <td>-0.666384</td>\n",
       "      <td>-0.665077</td>\n",
       "      <td>-0.891343</td>\n",
       "      <td>-0.317275</td>\n",
       "      <td>-0.118527</td>\n",
       "      <td>1.000000</td>\n",
       "      <td>-0.710213</td>\n",
       "    </tr>\n",
       "    <tr>\n",
       "      <th>Perceptions of corruption</th>\n",
       "      <td>-3.134417e-01</td>\n",
       "      <td>-1.080540e-01</td>\n",
       "      <td>0.369937</td>\n",
       "      <td>0.420690</td>\n",
       "      <td>0.469395</td>\n",
       "      <td>0.188633</td>\n",
       "      <td>-0.317722</td>\n",
       "      <td>-0.710213</td>\n",
       "      <td>1.000000</td>\n",
       "    </tr>\n",
       "  </tbody>\n",
       "</table>\n",
       "</div>"
      ],
      "text/plain": [
       "                              Overall rank          Year     Score  \\\n",
       "Overall rank                  1.000000e+00 -3.108836e-14 -0.991470   \n",
       "Year                         -3.108836e-14  1.000000e+00  0.008370   \n",
       "Score                        -9.914697e-01  8.370435e-03  1.000000   \n",
       "GDP per capita               -8.349718e-01  8.036810e-02  0.887167   \n",
       "Social support               -8.562703e-01 -2.847963e-02  0.872604   \n",
       "Healthy life expectancy      -6.940219e-01  4.091017e-01  0.746620   \n",
       "Freedom to make life choices -7.262944e-01  3.573113e-02  0.719865   \n",
       "Generosity                    6.500602e-01  6.823733e-02 -0.666384   \n",
       "Perceptions of corruption    -3.134417e-01 -1.080540e-01  0.369937   \n",
       "\n",
       "                              GDP per capita  Social support  \\\n",
       "Overall rank                       -0.834972       -0.856270   \n",
       "Year                                0.080368       -0.028480   \n",
       "Score                               0.887167        0.872604   \n",
       "GDP per capita                      1.000000        0.847328   \n",
       "Social support                      0.847328        1.000000   \n",
       "Healthy life expectancy             0.845814        0.533589   \n",
       "Freedom to make life choices        0.641237        0.492830   \n",
       "Generosity                         -0.665077       -0.891343   \n",
       "Perceptions of corruption           0.420690        0.469395   \n",
       "\n",
       "                              Healthy life expectancy  \\\n",
       "Overall rank                                -0.694022   \n",
       "Year                                         0.409102   \n",
       "Score                                        0.746620   \n",
       "GDP per capita                               0.845814   \n",
       "Social support                               0.533589   \n",
       "Healthy life expectancy                      1.000000   \n",
       "Freedom to make life choices                 0.718569   \n",
       "Generosity                                  -0.317275   \n",
       "Perceptions of corruption                    0.188633   \n",
       "\n",
       "                              Freedom to make life choices  Generosity  \\\n",
       "Overall rank                                     -0.726294    0.650060   \n",
       "Year                                              0.035731    0.068237   \n",
       "Score                                             0.719865   -0.666384   \n",
       "GDP per capita                                    0.641237   -0.665077   \n",
       "Social support                                    0.492830   -0.891343   \n",
       "Healthy life expectancy                           0.718569   -0.317275   \n",
       "Freedom to make life choices                      1.000000   -0.118527   \n",
       "Generosity                                       -0.118527    1.000000   \n",
       "Perceptions of corruption                        -0.317722   -0.710213   \n",
       "\n",
       "                              Perceptions of corruption  \n",
       "Overall rank                                  -0.313442  \n",
       "Year                                          -0.108054  \n",
       "Score                                          0.369937  \n",
       "GDP per capita                                 0.420690  \n",
       "Social support                                 0.469395  \n",
       "Healthy life expectancy                        0.188633  \n",
       "Freedom to make life choices                  -0.317722  \n",
       "Generosity                                    -0.710213  \n",
       "Perceptions of corruption                      1.000000  "
      ]
     },
     "execution_count": 24,
     "metadata": {},
     "output_type": "execute_result"
    }
   ],
   "source": [
    "a.corr()"
   ]
  },
  {
   "cell_type": "code",
   "execution_count": 51,
   "id": "e96dda9e",
   "metadata": {},
   "outputs": [
    {
     "data": {
      "text/plain": [
       "array([3.203, 3.632, 4.719, 4.586, 5.211, 5.295, 3.795, 6.086, 6.388,\n",
       "       4.559])"
      ]
     },
     "execution_count": 51,
     "metadata": {},
     "output_type": "execute_result"
    }
   ],
   "source": [
    "a['Score'].unique()"
   ]
  },
  {
   "cell_type": "code",
   "execution_count": 52,
   "id": "7f99abb8",
   "metadata": {},
   "outputs": [
    {
     "data": {
      "text/plain": [
       "0    False\n",
       "1    False\n",
       "2    False\n",
       "3    False\n",
       "4    False\n",
       "5    False\n",
       "6    False\n",
       "7    False\n",
       "8    False\n",
       "9    False\n",
       "dtype: bool"
      ]
     },
     "execution_count": 52,
     "metadata": {},
     "output_type": "execute_result"
    }
   ],
   "source": [
    "a.duplicated()"
   ]
  },
  {
   "cell_type": "code",
   "execution_count": 25,
   "id": "4b58469e",
   "metadata": {},
   "outputs": [
    {
     "name": "stderr",
     "output_type": "stream",
     "text": [
      "C:\\Users\\Public\\anaconda3\\lib\\site-packages\\seaborn\\_decorators.py:36: FutureWarning: Pass the following variable as a keyword arg: x. From version 0.12, the only valid positional argument will be `data`, and passing other arguments without an explicit keyword will result in an error or misinterpretation.\n",
      "  warnings.warn(\n"
     ]
    },
    {
     "data": {
      "text/plain": [
       "<AxesSubplot:xlabel='Score', ylabel='count'>"
      ]
     },
     "execution_count": 25,
     "metadata": {},
     "output_type": "execute_result"
    },
    {
     "data": {
      "image/png": "[encoded data removed]",
      "text/plain": [
       "<Figure size 432x288 with 1 Axes>"
      ]
     },
     "metadata": {
      "needs_background": "light"
     },
     "output_type": "display_data"
    }
   ],
   "source": [
    "sns.countplot(b['Score'])"
   ]
  },
  {
   "cell_type": "markdown",
   "id": "6208552c",
   "metadata": {},
   "source": [
    "## Import the required dataset i.e; pandas. Considered the data set of patients having diabetes and performed data manipulation.Using head() we can print required number of rows. Filtering, Sorting and Grouping are also performed for the considered dataset.\n",
    "## Using describe function we can print the minimum,maximum,count,mean and standard deviation of a particular data.\n",
    "## Now import seaborn. Seaborn helps us to explore and understand the data. Its plotting functions operates on dataframes and arrays containing whole datasets and internally perform the necessary schematic mapping and statistical aggregation to produce informative plots.\n",
    "## Conducte exploratory data analysis on the considered data set that is diabetes of patient and generated summary statistics and visualisations.Corr() function is used for statistical summary of the relationship between two sets of variables."
   ]
  },
  {
   "cell_type": "code",
   "execution_count": null,
   "id": "1d6a24c9",
   "metadata": {},
   "outputs": [],
   "source": []
  }
 ],
 "metadata": {
  "kernelspec": {
   "display_name": "Python 3 (ipykernel)",
   "language": "python",
   "name": "python3"
  },
  "language_info": {
   "codemirror_mode": {
    "name": "ipython",
    "version": 3
   },
   "file_extension": ".py",
   "mimetype": "text/x-python",
   "name": "python",
   "nbconvert_exporter": "python",
   "pygments_lexer": "ipython3",
   "version": "3.9.7"
  }
 },
 "nbformat": 4,
 "nbformat_minor": 5
}
