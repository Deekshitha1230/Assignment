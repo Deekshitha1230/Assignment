{
 "cells": [
  {
   "cell_type": "markdown",
   "id": "61ce8ae7",
   "metadata": {},
   "source": [
    "## feature scaling"
   ]
  },
  {
   "cell_type": "code",
   "execution_count": 92,
   "id": "4dbac0de",
   "metadata": {},
   "outputs": [],
   "source": [
    "import matplotlib.pyplot as plt\n",
    "import numpy as np\n",
    "import pandas as pd\n",
    "import seaborn as sns\n",
    "from sklearn.preprocessing import StandardScaler, MinMaxScaler"
   ]
  },
  {
   "cell_type": "code",
   "execution_count": 82,
   "id": "e7e4c215",
   "metadata": {},
   "outputs": [],
   "source": [
    "df=pd.read_csv('diabetes.csv')"
   ]
  },
  {
   "cell_type": "code",
   "execution_count": 83,
   "id": "c9b863f2",
   "metadata": {},
   "outputs": [
    {
     "data": {
      "text/html": [
       "<div>\n",
       "<style scoped>\n",
       "    .dataframe tbody tr th:only-of-type {\n",
       "        vertical-align: middle;\n",
       "    }\n",
       "\n",
       "    .dataframe tbody tr th {\n",
       "        vertical-align: top;\n",
       "    }\n",
       "\n",
       "    .dataframe thead th {\n",
       "        text-align: right;\n",
       "    }\n",
       "</style>\n",
       "<table border=\"1\" class=\"dataframe\">\n",
       "  <thead>\n",
       "    <tr style=\"text-align: right;\">\n",
       "      <th></th>\n",
       "      <th>Pregnancies</th>\n",
       "      <th>Glucose</th>\n",
       "      <th>BloodPressure</th>\n",
       "      <th>SkinThickness</th>\n",
       "      <th>Insulin</th>\n",
       "      <th>BMI</th>\n",
       "      <th>DiabetesPedigreeFunction</th>\n",
       "      <th>Age</th>\n",
       "      <th>Outcome</th>\n",
       "    </tr>\n",
       "  </thead>\n",
       "  <tbody>\n",
       "    <tr>\n",
       "      <th>0</th>\n",
       "      <td>6</td>\n",
       "      <td>148</td>\n",
       "      <td>72</td>\n",
       "      <td>35</td>\n",
       "      <td>0</td>\n",
       "      <td>33.6</td>\n",
       "      <td>0.627</td>\n",
       "      <td>50</td>\n",
       "      <td>1</td>\n",
       "    </tr>\n",
       "    <tr>\n",
       "      <th>1</th>\n",
       "      <td>1</td>\n",
       "      <td>85</td>\n",
       "      <td>66</td>\n",
       "      <td>29</td>\n",
       "      <td>0</td>\n",
       "      <td>26.6</td>\n",
       "      <td>0.351</td>\n",
       "      <td>31</td>\n",
       "      <td>0</td>\n",
       "    </tr>\n",
       "    <tr>\n",
       "      <th>2</th>\n",
       "      <td>8</td>\n",
       "      <td>183</td>\n",
       "      <td>64</td>\n",
       "      <td>0</td>\n",
       "      <td>0</td>\n",
       "      <td>23.3</td>\n",
       "      <td>0.672</td>\n",
       "      <td>32</td>\n",
       "      <td>1</td>\n",
       "    </tr>\n",
       "    <tr>\n",
       "      <th>3</th>\n",
       "      <td>1</td>\n",
       "      <td>89</td>\n",
       "      <td>66</td>\n",
       "      <td>23</td>\n",
       "      <td>94</td>\n",
       "      <td>28.1</td>\n",
       "      <td>0.167</td>\n",
       "      <td>21</td>\n",
       "      <td>0</td>\n",
       "    </tr>\n",
       "    <tr>\n",
       "      <th>4</th>\n",
       "      <td>0</td>\n",
       "      <td>137</td>\n",
       "      <td>40</td>\n",
       "      <td>35</td>\n",
       "      <td>168</td>\n",
       "      <td>43.1</td>\n",
       "      <td>2.288</td>\n",
       "      <td>33</td>\n",
       "      <td>1</td>\n",
       "    </tr>\n",
       "    <tr>\n",
       "      <th>5</th>\n",
       "      <td>5</td>\n",
       "      <td>116</td>\n",
       "      <td>74</td>\n",
       "      <td>0</td>\n",
       "      <td>0</td>\n",
       "      <td>25.6</td>\n",
       "      <td>0.201</td>\n",
       "      <td>30</td>\n",
       "      <td>0</td>\n",
       "    </tr>\n",
       "    <tr>\n",
       "      <th>6</th>\n",
       "      <td>3</td>\n",
       "      <td>78</td>\n",
       "      <td>50</td>\n",
       "      <td>32</td>\n",
       "      <td>88</td>\n",
       "      <td>31.0</td>\n",
       "      <td>0.248</td>\n",
       "      <td>26</td>\n",
       "      <td>1</td>\n",
       "    </tr>\n",
       "    <tr>\n",
       "      <th>7</th>\n",
       "      <td>10</td>\n",
       "      <td>115</td>\n",
       "      <td>0</td>\n",
       "      <td>0</td>\n",
       "      <td>0</td>\n",
       "      <td>35.3</td>\n",
       "      <td>0.134</td>\n",
       "      <td>29</td>\n",
       "      <td>0</td>\n",
       "    </tr>\n",
       "    <tr>\n",
       "      <th>8</th>\n",
       "      <td>2</td>\n",
       "      <td>197</td>\n",
       "      <td>70</td>\n",
       "      <td>45</td>\n",
       "      <td>543</td>\n",
       "      <td>30.5</td>\n",
       "      <td>0.158</td>\n",
       "      <td>53</td>\n",
       "      <td>1</td>\n",
       "    </tr>\n",
       "    <tr>\n",
       "      <th>9</th>\n",
       "      <td>8</td>\n",
       "      <td>125</td>\n",
       "      <td>96</td>\n",
       "      <td>0</td>\n",
       "      <td>0</td>\n",
       "      <td>0.0</td>\n",
       "      <td>0.232</td>\n",
       "      <td>54</td>\n",
       "      <td>1</td>\n",
       "    </tr>\n",
       "  </tbody>\n",
       "</table>\n",
       "</div>"
      ],
      "text/plain": [
       "   Pregnancies  Glucose  BloodPressure  SkinThickness  Insulin   BMI  \\\n",
       "0            6      148             72             35        0  33.6   \n",
       "1            1       85             66             29        0  26.6   \n",
       "2            8      183             64              0        0  23.3   \n",
       "3            1       89             66             23       94  28.1   \n",
       "4            0      137             40             35      168  43.1   \n",
       "5            5      116             74              0        0  25.6   \n",
       "6            3       78             50             32       88  31.0   \n",
       "7           10      115              0              0        0  35.3   \n",
       "8            2      197             70             45      543  30.5   \n",
       "9            8      125             96              0        0   0.0   \n",
       "\n",
       "   DiabetesPedigreeFunction  Age  Outcome  \n",
       "0                     0.627   50        1  \n",
       "1                     0.351   31        0  \n",
       "2                     0.672   32        1  \n",
       "3                     0.167   21        0  \n",
       "4                     2.288   33        1  \n",
       "5                     0.201   30        0  \n",
       "6                     0.248   26        1  \n",
       "7                     0.134   29        0  \n",
       "8                     0.158   53        1  \n",
       "9                     0.232   54        1  "
      ]
     },
     "execution_count": 83,
     "metadata": {},
     "output_type": "execute_result"
    }
   ],
   "source": [
    "a=df.head(10)\n",
    "a"
   ]
  },
  {
   "cell_type": "code",
   "execution_count": 84,
   "id": "66ee61e9",
   "metadata": {},
   "outputs": [
    {
     "name": "stdout",
     "output_type": "stream",
     "text": [
      "       Pregnancies     Glucose  BloodPressure  SkinThickness     Insulin  \\\n",
      "count     10.00000   10.000000      10.000000      10.000000   10.000000   \n",
      "mean       4.40000  127.300000      59.800000      19.900000   89.300000   \n",
      "std        3.50238   40.075068      25.654976      17.978073  169.937276   \n",
      "min        0.00000   78.000000       0.000000       0.000000    0.000000   \n",
      "25%        1.25000   95.500000      53.500000       0.000000    0.000000   \n",
      "50%        4.00000  120.500000      66.000000      26.000000    0.000000   \n",
      "75%        7.50000  145.250000      71.500000      34.250000   92.500000   \n",
      "max       10.00000  197.000000      96.000000      45.000000  543.000000   \n",
      "\n",
      "             BMI  DiabetesPedigreeFunction        Age    Outcome  \n",
      "count  10.000000                 10.000000  10.000000  10.000000  \n",
      "mean   27.710000                  0.507800  35.900000   0.600000  \n",
      "std    11.259016                  0.654114  11.873874   0.516398  \n",
      "min     0.000000                  0.134000  21.000000   0.000000  \n",
      "25%    25.850000                  0.175500  29.250000   0.000000  \n",
      "50%    29.300000                  0.240000  31.500000   1.000000  \n",
      "75%    32.950000                  0.558000  45.750000   1.000000  \n",
      "max    43.100000                  2.288000  54.000000   1.000000  \n"
     ]
    }
   ],
   "source": [
    "print(a.describe())"
   ]
  },
  {
   "cell_type": "code",
   "execution_count": 85,
   "id": "4a84006c",
   "metadata": {},
   "outputs": [
    {
     "data": {
      "text/plain": [
       "{'whiskers': [<matplotlib.lines.Line2D at 0x15dc25a3460>,\n",
       "  <matplotlib.lines.Line2D at 0x15dc25a37f0>,\n",
       "  <matplotlib.lines.Line2D at 0x15dc25afd90>,\n",
       "  <matplotlib.lines.Line2D at 0x15dc25bc160>,\n",
       "  <matplotlib.lines.Line2D at 0x15dc25c7700>,\n",
       "  <matplotlib.lines.Line2D at 0x15dc25c7a90>,\n",
       "  <matplotlib.lines.Line2D at 0x15dc25df070>,\n",
       "  <matplotlib.lines.Line2D at 0x15dc25df400>,\n",
       "  <matplotlib.lines.Line2D at 0x15dc25ea9a0>,\n",
       "  <matplotlib.lines.Line2D at 0x15dc25ead30>,\n",
       "  <matplotlib.lines.Line2D at 0x15dc2603310>,\n",
       "  <matplotlib.lines.Line2D at 0x15dc26036a0>],\n",
       " 'caps': [<matplotlib.lines.Line2D at 0x15dc25a3b80>,\n",
       "  <matplotlib.lines.Line2D at 0x15dc25a3f10>,\n",
       "  <matplotlib.lines.Line2D at 0x15dc25bc4f0>,\n",
       "  <matplotlib.lines.Line2D at 0x15dc25bc880>,\n",
       "  <matplotlib.lines.Line2D at 0x15dc25c7e20>,\n",
       "  <matplotlib.lines.Line2D at 0x15dc25d21f0>,\n",
       "  <matplotlib.lines.Line2D at 0x15dc25df790>,\n",
       "  <matplotlib.lines.Line2D at 0x15dc25dfb20>,\n",
       "  <matplotlib.lines.Line2D at 0x15dc25f7100>,\n",
       "  <matplotlib.lines.Line2D at 0x15dc25f7490>,\n",
       "  <matplotlib.lines.Line2D at 0x15dc2603a30>,\n",
       "  <matplotlib.lines.Line2D at 0x15dc2603dc0>],\n",
       " 'boxes': [<matplotlib.lines.Line2D at 0x15dc25a30d0>,\n",
       "  <matplotlib.lines.Line2D at 0x15dc25afa00>,\n",
       "  <matplotlib.lines.Line2D at 0x15dc25c7370>,\n",
       "  <matplotlib.lines.Line2D at 0x15dc25d2ca0>,\n",
       "  <matplotlib.lines.Line2D at 0x15dc25ea610>,\n",
       "  <matplotlib.lines.Line2D at 0x15dc25f7f40>],\n",
       " 'medians': [<matplotlib.lines.Line2D at 0x15dc25af2e0>,\n",
       "  <matplotlib.lines.Line2D at 0x15dc25bcc10>,\n",
       "  <matplotlib.lines.Line2D at 0x15dc25d2580>,\n",
       "  <matplotlib.lines.Line2D at 0x15dc25dfeb0>,\n",
       "  <matplotlib.lines.Line2D at 0x15dc25f7820>,\n",
       "  <matplotlib.lines.Line2D at 0x15dc260e190>],\n",
       " 'fliers': [<matplotlib.lines.Line2D at 0x15dc25af670>,\n",
       "  <matplotlib.lines.Line2D at 0x15dc25bcfa0>,\n",
       "  <matplotlib.lines.Line2D at 0x15dc25d2910>,\n",
       "  <matplotlib.lines.Line2D at 0x15dc25ea280>,\n",
       "  <matplotlib.lines.Line2D at 0x15dc25f7bb0>,\n",
       "  <matplotlib.lines.Line2D at 0x15dc260e520>],\n",
       " 'means': []}"
      ]
     },
     "execution_count": 85,
     "metadata": {},
     "output_type": "execute_result"
    },
    {
     "data": {
      "image/png": "[encoded data removed]",
      "text/plain": [
       "<Figure size 432x288 with 1 Axes>"
      ]
     },
     "metadata": {
      "needs_background": "light"
     },
     "output_type": "display_data"
    }
   ],
   "source": [
    "plt.boxplot(a[['BloodPressure','BMI','Glucose','Pregnancies','Insulin','DiabetesPedigreeFunction']],labels=['BloodPressure','BMI','Glucose','Pregnancies','Insulin','DiabetesPedigreeFunction'])"
   ]
  },
  {
   "cell_type": "code",
   "execution_count": 87,
   "id": "f319ac18",
   "metadata": {},
   "outputs": [
    {
     "data": {
      "image/png": "[encoded data removed]",
      "text/plain": [
       "<Figure size 432x288 with 1 Axes>"
      ]
     },
     "metadata": {
      "needs_background": "light"
     },
     "output_type": "display_data"
    }
   ],
   "source": [
    "scaler = MinMaxScaler()\n",
    "scaled = scaler.fit_transform(a[['BloodPressure','BMI','Glucose','Pregnancies','Insulin','DiabetesPedigreeFunction']])\n",
    "plt.boxplot(scaled,labels=['BloodPressure','BMI','Glucose','Pregnancies','Insulin','DiabetesPedigreeFunction'])\n",
    "plt.show()"
   ]
  },
  {
   "cell_type": "code",
   "execution_count": 88,
   "id": "8b11851c",
   "metadata": {},
   "outputs": [
    {
     "data": {
      "image/png": "[encoded data removed]",
      "text/plain": [
       "<Figure size 432x288 with 1 Axes>"
      ]
     },
     "metadata": {
      "needs_background": "light"
     },
     "output_type": "display_data"
    }
   ],
   "source": [
    "scaler = StandardScaler()\n",
    "scaled = scaler.fit_transform(a[['BloodPressure','BMI','Glucose','Pregnancies','Insulin','DiabetesPedigreeFunction']])\n",
    "plt.boxplot(scaled,labels=['BloodPressure','BMI','Glucose','Pregnancies','Insulin','DiabetesPedigreeFunction'])\n",
    "plt.show()"
   ]
  },
  {
   "cell_type": "markdown",
   "id": "001bfa77",
   "metadata": {},
   "source": [
    "## 2nd"
   ]
  },
  {
   "cell_type": "code",
   "execution_count": 95,
   "id": "9c12a2d1",
   "metadata": {
    "scrolled": true
   },
   "outputs": [
    {
     "name": "stdout",
     "output_type": "stream",
     "text": [
      "   SkinThickness  Age  Outcome  BloodPressure_0  BloodPressure_40  \\\n",
      "0             35   50        1                0                 0   \n",
      "1             29   31        0                0                 0   \n",
      "2              0   32        1                0                 0   \n",
      "3             23   21        0                0                 0   \n",
      "4             35   33        1                0                 1   \n",
      "5              0   30        0                0                 0   \n",
      "6             32   26        1                0                 0   \n",
      "7              0   29        0                1                 0   \n",
      "8             45   53        1                0                 0   \n",
      "9              0   54        1                0                 0   \n",
      "\n",
      "   BloodPressure_50  BloodPressure_64  BloodPressure_66  BloodPressure_70  \\\n",
      "0                 0                 0                 0                 0   \n",
      "1                 0                 0                 1                 0   \n",
      "2                 0                 1                 0                 0   \n",
      "3                 0                 0                 1                 0   \n",
      "4                 0                 0                 0                 0   \n",
      "5                 0                 0                 0                 0   \n",
      "6                 1                 0                 0                 0   \n",
      "7                 0                 0                 0                 0   \n",
      "8                 0                 0                 0                 1   \n",
      "9                 0                 0                 0                 0   \n",
      "\n",
      "   BloodPressure_72  ...  DiabetesPedigreeFunction_0.134  \\\n",
      "0                 1  ...                               0   \n",
      "1                 0  ...                               0   \n",
      "2                 0  ...                               0   \n",
      "3                 0  ...                               0   \n",
      "4                 0  ...                               0   \n",
      "5                 0  ...                               0   \n",
      "6                 0  ...                               0   \n",
      "7                 0  ...                               1   \n",
      "8                 0  ...                               0   \n",
      "9                 0  ...                               0   \n",
      "\n",
      "   DiabetesPedigreeFunction_0.158  DiabetesPedigreeFunction_0.167  \\\n",
      "0                               0                               0   \n",
      "1                               0                               0   \n",
      "2                               0                               0   \n",
      "3                               0                               1   \n",
      "4                               0                               0   \n",
      "5                               0                               0   \n",
      "6                               0                               0   \n",
      "7                               0                               0   \n",
      "8                               1                               0   \n",
      "9                               0                               0   \n",
      "\n",
      "   DiabetesPedigreeFunction_0.201  DiabetesPedigreeFunction_0.232  \\\n",
      "0                               0                               0   \n",
      "1                               0                               0   \n",
      "2                               0                               0   \n",
      "3                               0                               0   \n",
      "4                               0                               0   \n",
      "5                               1                               0   \n",
      "6                               0                               0   \n",
      "7                               0                               0   \n",
      "8                               0                               0   \n",
      "9                               0                               1   \n",
      "\n",
      "   DiabetesPedigreeFunction_0.248  DiabetesPedigreeFunction_0.351  \\\n",
      "0                               0                               0   \n",
      "1                               0                               1   \n",
      "2                               0                               0   \n",
      "3                               0                               0   \n",
      "4                               0                               0   \n",
      "5                               0                               0   \n",
      "6                               1                               0   \n",
      "7                               0                               0   \n",
      "8                               0                               0   \n",
      "9                               0                               0   \n",
      "\n",
      "   DiabetesPedigreeFunction_0.627  DiabetesPedigreeFunction_0.672  \\\n",
      "0                               1                               0   \n",
      "1                               0                               0   \n",
      "2                               0                               1   \n",
      "3                               0                               0   \n",
      "4                               0                               0   \n",
      "5                               0                               0   \n",
      "6                               0                               0   \n",
      "7                               0                               0   \n",
      "8                               0                               0   \n",
      "9                               0                               0   \n",
      "\n",
      "   DiabetesPedigreeFunction_2.288  \n",
      "0                               0  \n",
      "1                               0  \n",
      "2                               0  \n",
      "3                               0  \n",
      "4                               1  \n",
      "5                               0  \n",
      "6                               0  \n",
      "7                               0  \n",
      "8                               0  \n",
      "9                               0  \n",
      "\n",
      "[10 rows x 55 columns]\n"
     ]
    }
   ],
   "source": [
    "one_hot_encoded_data = pd.get_dummies(a, columns = ['BloodPressure','BMI','Glucose','Pregnancies','Insulin','DiabetesPedigreeFunction'])\n",
    "print(one_hot_encoded_data)"
   ]
  },
  {
   "cell_type": "markdown",
   "id": "2537acbc",
   "metadata": {},
   "source": [
    "## Feature engineering"
   ]
  },
  {
   "cell_type": "code",
   "execution_count": 103,
   "id": "783bca8c",
   "metadata": {},
   "outputs": [
    {
     "name": "stdout",
     "output_type": "stream",
     "text": [
      "    Name  Salary  exp(yrs)\n",
      "0   John   25000         2\n",
      "1   Jane   23456         3\n",
      "2   Mike   28000         4\n",
      "3  Emily   32000         5\n"
     ]
    }
   ],
   "source": [
    "data = {'Name': ['John', 'Jane', 'Mike', 'Emily'],\n",
    "        'Salary': [25000, 23456, 28000, 32000],\n",
    "        'exp(yrs)': [2,3,4,5]}\n",
    "a=pd.DataFrame(data)\n",
    "print(a)"
   ]
  },
  {
   "cell_type": "code",
   "execution_count": 104,
   "id": "2fc89fab",
   "metadata": {},
   "outputs": [
    {
     "data": {
      "text/plain": [
       "0    2\n",
       "1    3\n",
       "2    4\n",
       "3    5\n",
       "Name: exp(yrs), dtype: int64"
      ]
     },
     "execution_count": 104,
     "metadata": {},
     "output_type": "execute_result"
    }
   ],
   "source": [
    "#feature selection\n",
    "a['exp(yrs)']"
   ]
  },
  {
   "cell_type": "code",
   "execution_count": 107,
   "id": "742a0d4c",
   "metadata": {},
   "outputs": [
    {
     "name": "stdout",
     "output_type": "stream",
     "text": [
      "    Name  Salary  exp(yrs)  Age  Place\n",
      "0   John   25000         2   23  delhi\n",
      "1   Jane   23456         3   34  assam\n",
      "2   Mike   28000         4   34    hyd\n",
      "3  Emily   32000         5   12    goa\n"
     ]
    }
   ],
   "source": [
    "#feature construction\n",
    "a['Age']=[23,34,34,12]\n",
    "a['Place']=['delhi','assam','hyd','goa']\n",
    "print(a)"
   ]
  },
  {
   "cell_type": "code",
   "execution_count": 108,
   "id": "3ea84f41",
   "metadata": {},
   "outputs": [
    {
     "data": {
      "text/html": [
       "<div>\n",
       "<style scoped>\n",
       "    .dataframe tbody tr th:only-of-type {\n",
       "        vertical-align: middle;\n",
       "    }\n",
       "\n",
       "    .dataframe tbody tr th {\n",
       "        vertical-align: top;\n",
       "    }\n",
       "\n",
       "    .dataframe thead th {\n",
       "        text-align: right;\n",
       "    }\n",
       "</style>\n",
       "<table border=\"1\" class=\"dataframe\">\n",
       "  <thead>\n",
       "    <tr style=\"text-align: right;\">\n",
       "      <th></th>\n",
       "      <th>Name</th>\n",
       "      <th>Salary</th>\n",
       "      <th>exp(yrs)</th>\n",
       "      <th>Age</th>\n",
       "      <th>Place</th>\n",
       "    </tr>\n",
       "  </thead>\n",
       "  <tbody>\n",
       "    <tr>\n",
       "      <th>0</th>\n",
       "      <td>John</td>\n",
       "      <td>25000</td>\n",
       "      <td>2</td>\n",
       "      <td>23</td>\n",
       "      <td>delhi</td>\n",
       "    </tr>\n",
       "    <tr>\n",
       "      <th>1</th>\n",
       "      <td>Jane</td>\n",
       "      <td>23456</td>\n",
       "      <td>3</td>\n",
       "      <td>34</td>\n",
       "      <td>assam</td>\n",
       "    </tr>\n",
       "    <tr>\n",
       "      <th>2</th>\n",
       "      <td>Mike</td>\n",
       "      <td>28000</td>\n",
       "      <td>4</td>\n",
       "      <td>34</td>\n",
       "      <td>hyd</td>\n",
       "    </tr>\n",
       "    <tr>\n",
       "      <th>3</th>\n",
       "      <td>Emily</td>\n",
       "      <td>32000</td>\n",
       "      <td>5</td>\n",
       "      <td>12</td>\n",
       "      <td>goa</td>\n",
       "    </tr>\n",
       "  </tbody>\n",
       "</table>\n",
       "</div>"
      ],
      "text/plain": [
       "    Name  Salary  exp(yrs)  Age  Place\n",
       "0   John   25000         2   23  delhi\n",
       "1   Jane   23456         3   34  assam\n",
       "2   Mike   28000         4   34    hyd\n",
       "3  Emily   32000         5   12    goa"
      ]
     },
     "execution_count": 108,
     "metadata": {},
     "output_type": "execute_result"
    }
   ],
   "source": [
    "a"
   ]
  },
  {
   "cell_type": "code",
   "execution_count": 111,
   "id": "8e56444f",
   "metadata": {},
   "outputs": [
    {
     "data": {
      "text/plain": [
       "28000"
      ]
     },
     "execution_count": 111,
     "metadata": {},
     "output_type": "execute_result"
    }
   ],
   "source": [
    "## feature selection\n",
    "y=a['Salary'].loc[2]\n",
    "y"
   ]
  },
  {
   "cell_type": "code",
   "execution_count": null,
   "id": "1f5fd1d3",
   "metadata": {},
   "outputs": [],
   "source": []
  }
 ],
 "metadata": {
  "kernelspec": {
   "display_name": "Python 3 (ipykernel)",
   "language": "python",
   "name": "python3"
  },
  "language_info": {
   "codemirror_mode": {
    "name": "ipython",
    "version": 3
   },
   "file_extension": ".py",
   "mimetype": "text/x-python",
   "name": "python",
   "nbconvert_exporter": "python",
   "pygments_lexer": "ipython3",
   "version": "3.9.7"
  }
 },
 "nbformat": 4,
 "nbformat_minor": 5
}
