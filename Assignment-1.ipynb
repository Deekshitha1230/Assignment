{
 "cells": [
  {
   "cell_type": "code",
   "execution_count": null,
   "id": "a3f140ef",
   "metadata": {},
   "outputs": [],
   "source": [
    "#1st"
   ]
  },
  {
   "cell_type": "code",
   "execution_count": 11,
   "id": "c604c56d",
   "metadata": {},
   "outputs": [],
   "source": [
    "import matplotlib.pyplot as plt\n",
    "import numpy as np"
   ]
  },
  {
   "cell_type": "code",
   "execution_count": 12,
   "id": "4bd416cd",
   "metadata": {},
   "outputs": [
    {
     "name": "stdout",
     "output_type": "stream",
     "text": [
      "[1 2 3 4 5] [7 6 5 4 3 2]\n"
     ]
    }
   ],
   "source": [
    "arr1 = np.array([1, 2, 3, 4, 5])\n",
    "arr2 = np.array([7,6,5,4,3,2])\n",
    "print(arr1,arr2)"
   ]
  },
  {
   "cell_type": "code",
   "execution_count": 13,
   "id": "5012ec6a",
   "metadata": {},
   "outputs": [
    {
     "name": "stdout",
     "output_type": "stream",
     "text": [
      "[8 8 8 8 8]\n"
     ]
    }
   ],
   "source": [
    "arr1 = np.array([1, 2, 3, 4, 5])\n",
    "arr2 = np.array([7,6,5,4,3])\n",
    "sum=arr1+arr2\n",
    "print(sum)"
   ]
  },
  {
   "cell_type": "code",
   "execution_count": 14,
   "id": "16a49368",
   "metadata": {},
   "outputs": [
    {
     "name": "stdout",
     "output_type": "stream",
     "text": [
      "[ 7 12 15 16 15]\n"
     ]
    }
   ],
   "source": [
    "arr1 = np.array([1, 2, 3, 4, 5])\n",
    "arr2 = np.array([7,6,5,4,3])\n",
    "multip=arr1*arr2\n",
    "print(multip)"
   ]
  },
  {
   "cell_type": "code",
   "execution_count": 15,
   "id": "543ead24",
   "metadata": {},
   "outputs": [
    {
     "name": "stdout",
     "output_type": "stream",
     "text": [
      "[-6 -4 -2  0  2]\n"
     ]
    }
   ],
   "source": [
    "arr1 = np.array([1, 2, 3, 4, 5])\n",
    "arr2 = np.array([7,6,5,4,3])\n",
    "diff=arr1-arr2\n",
    "print(diff)"
   ]
  },
  {
   "cell_type": "code",
   "execution_count": 16,
   "id": "e5d3f155",
   "metadata": {},
   "outputs": [
    {
     "name": "stdout",
     "output_type": "stream",
     "text": [
      "[7 3 1 1 0]\n"
     ]
    }
   ],
   "source": [
    "arr1 = np.array([1, 2, 3, 4, 5])\n",
    "arr2 = np.array([7,6,5,4,3])\n",
    "div=arr2//arr1\n",
    "print(div)"
   ]
  },
  {
   "cell_type": "code",
   "execution_count": 17,
   "id": "dd7547bd",
   "metadata": {},
   "outputs": [
    {
     "name": "stdout",
     "output_type": "stream",
     "text": [
      "[0 0 2 0 3]\n"
     ]
    }
   ],
   "source": [
    "arr1 = np.array([1, 2, 3, 4, 5])\n",
    "arr2 = np.array([7,6,5,4,3])\n",
    "rem=arr2%arr1\n",
    "print(rem)"
   ]
  },
  {
   "cell_type": "code",
   "execution_count": 18,
   "id": "3290f497",
   "metadata": {},
   "outputs": [
    {
     "name": "stdout",
     "output_type": "stream",
     "text": [
      "[  1  64 243 256 125]\n"
     ]
    }
   ],
   "source": [
    "arr1 = np.array([1,2,3,4,5])\n",
    "arr2 = np.array([7,6,5,4,3])\n",
    "sq=arr1**arr2\n",
    "print(sq)"
   ]
  },
  {
   "cell_type": "code",
   "execution_count": 19,
   "id": "a59739be",
   "metadata": {},
   "outputs": [],
   "source": [
    "#2nd"
   ]
  },
  {
   "cell_type": "code",
   "execution_count": 29,
   "id": "d2fc3592",
   "metadata": {},
   "outputs": [],
   "source": [
    "import pandas as pd"
   ]
  },
  {
   "cell_type": "code",
   "execution_count": 30,
   "id": "808b6810",
   "metadata": {},
   "outputs": [],
   "source": [
    "data = {'Name': ['John', 'Jane', 'Mike', 'Emily'],\n",
    "        'Salary': [25000, 30000, 28000, 32000],\n",
    "        'exp(yrs)': [2,3,4,5]}"
   ]
  },
  {
   "cell_type": "code",
   "execution_count": 37,
   "id": "3c5e438f",
   "metadata": {},
   "outputs": [
    {
     "name": "stdout",
     "output_type": "stream",
     "text": [
      "    Name  Salary  exp(yrs)\n",
      "0   John   25000         2\n",
      "1   Jane   30000         3\n",
      "2   Mike   28000         4\n",
      "3  Emily   32000         5\n"
     ]
    }
   ],
   "source": [
    "df=pd.DataFrame(data)\n",
    "print(df)"
   ]
  },
  {
   "cell_type": "code",
   "execution_count": 38,
   "id": "db96e85a",
   "metadata": {},
   "outputs": [
    {
     "name": "stdout",
     "output_type": "stream",
     "text": [
      "0     John\n",
      "1     Jane\n",
      "2     Mike\n",
      "3    Emily\n",
      "Name: Name, dtype: object\n"
     ]
    }
   ],
   "source": [
    "print(df['Name'])"
   ]
  },
  {
   "cell_type": "code",
   "execution_count": 39,
   "id": "bbd152f8",
   "metadata": {},
   "outputs": [
    {
     "name": "stdout",
     "output_type": "stream",
     "text": [
      "Name         Jane\n",
      "Salary      30000\n",
      "exp(yrs)        3\n",
      "Name: 1, dtype: object\n"
     ]
    }
   ],
   "source": [
    "print(df.loc[1])"
   ]
  },
  {
   "cell_type": "code",
   "execution_count": 40,
   "id": "b22c6933",
   "metadata": {
    "scrolled": true
   },
   "outputs": [
    {
     "name": "stdout",
     "output_type": "stream",
     "text": [
      "    Name  Salary  exp(yrs)\n",
      "2   Mike   28000         4\n",
      "3  Emily   32000         5\n"
     ]
    }
   ],
   "source": [
    "filtered=df[df['exp(yrs)'] > 3]\n",
    "print(filtered)"
   ]
  },
  {
   "cell_type": "code",
   "execution_count": 41,
   "id": "7fa51e9d",
   "metadata": {},
   "outputs": [
    {
     "name": "stdout",
     "output_type": "stream",
     "text": [
      "    Name  Salary  exp(yrs)\n",
      "0   John   25000         2\n",
      "1   Jane   30000         3\n",
      "2   Mike   28000         4\n",
      "3  Emily   32000         5\n"
     ]
    }
   ],
   "source": [
    "sorted= df.sort_values('exp(yrs)')\n",
    "print(sorted)"
   ]
  },
  {
   "cell_type": "code",
   "execution_count": null,
   "id": "90d90b46",
   "metadata": {},
   "outputs": [],
   "source": [
    "#nullvalues"
   ]
  },
  {
   "cell_type": "code",
   "execution_count": 42,
   "id": "00dcf34f",
   "metadata": {},
   "outputs": [],
   "source": [
    "data = {'Name': ['John', 'Jane', 'Mike', 'Emily'],\n",
    "        'Salary': [25000, None, 28000, 32000],\n",
    "        'exp(yrs)': [2,None,4,5]}"
   ]
  },
  {
   "cell_type": "code",
   "execution_count": 43,
   "id": "4e742614",
   "metadata": {},
   "outputs": [
    {
     "name": "stdout",
     "output_type": "stream",
     "text": [
      "    Name   Salary  exp(yrs)\n",
      "0   John  25000.0       2.0\n",
      "1   Jane      NaN       NaN\n",
      "2   Mike  28000.0       4.0\n",
      "3  Emily  32000.0       5.0\n"
     ]
    }
   ],
   "source": [
    "df=pd.DataFrame(data)\n",
    "print(df)"
   ]
  },
  {
   "cell_type": "code",
   "execution_count": 44,
   "id": "a8531093",
   "metadata": {},
   "outputs": [
    {
     "name": "stdout",
     "output_type": "stream",
     "text": [
      "Name        0\n",
      "Salary      1\n",
      "exp(yrs)    1\n",
      "dtype: int64\n"
     ]
    }
   ],
   "source": [
    "print(df.isnull().sum())"
   ]
  },
  {
   "cell_type": "code",
   "execution_count": 45,
   "id": "fddc4594",
   "metadata": {},
   "outputs": [
    {
     "name": "stdout",
     "output_type": "stream",
     "text": [
      "    Name   Salary  exp(yrs)\n",
      "0   John  25000.0       2.0\n",
      "1   Jane      0.0       0.0\n",
      "2   Mike  28000.0       4.0\n",
      "3  Emily  32000.0       5.0\n"
     ]
    }
   ],
   "source": [
    "filledvalue=df.fillna(0)\n",
    "print(filledvalue)"
   ]
  },
  {
   "cell_type": "code",
   "execution_count": 46,
   "id": "0e99c20d",
   "metadata": {},
   "outputs": [
    {
     "data": {
      "image/png": "[encoded data removed]",
      "text/plain": [
       "<Figure size 432x288 with 1 Axes>"
      ]
     },
     "metadata": {
      "needs_background": "light"
     },
     "output_type": "display_data"
    }
   ],
   "source": [
    "import matplotlib.pyplot as plt\n",
    "df.plot(x='Name', y='exp(yrs)', kind='line', title='experience')\n",
    "plt.show()"
   ]
  },
  {
   "cell_type": "code",
   "execution_count": 47,
   "id": "c636c8a9",
   "metadata": {},
   "outputs": [
    {
     "data": {
      "image/png": "[encoded data removed]",
      "text/plain": [
       "<Figure size 432x288 with 1 Axes>"
      ]
     },
     "metadata": {
      "needs_background": "light"
     },
     "output_type": "display_data"
    }
   ],
   "source": [
    "df.plot(x='Name', y='exp(yrs)', kind='bar', title='experience')\n",
    "plt.show()"
   ]
  },
  {
   "cell_type": "code",
   "execution_count": 48,
   "id": "c8a1a515",
   "metadata": {},
   "outputs": [],
   "source": [
    "#3rd"
   ]
  },
  {
   "cell_type": "code",
   "execution_count": 49,
   "id": "ffe1603e",
   "metadata": {},
   "outputs": [],
   "source": [
    "import matplotlib.pyplot as plt\n",
    "import numpy as np\n",
    "import pandas as pd\n",
    "df=pd.read_csv('diabetes.csv')"
   ]
  },
  {
   "cell_type": "code",
   "execution_count": 50,
   "id": "569e426f",
   "metadata": {},
   "outputs": [
    {
     "name": "stdout",
     "output_type": "stream",
     "text": [
      "   Pregnancies  Glucose  BloodPressure  SkinThickness  Insulin   BMI  \\\n",
      "0            6      148             72             35        0  33.6   \n",
      "1            1       85             66             29        0  26.6   \n",
      "2            8      183             64              0        0  23.3   \n",
      "3            1       89             66             23       94  28.1   \n",
      "4            0      137             40             35      168  43.1   \n",
      "\n",
      "   DiabetesPedigreeFunction  Age  Outcome  \n",
      "0                     0.627   50        1  \n",
      "1                     0.351   31        0  \n",
      "2                     0.672   32        1  \n",
      "3                     0.167   21        0  \n",
      "4                     2.288   33        1  \n"
     ]
    }
   ],
   "source": [
    "a=df.head()\n",
    "print(a)"
   ]
  },
  {
   "cell_type": "code",
   "execution_count": 51,
   "id": "61b9120e",
   "metadata": {},
   "outputs": [
    {
     "data": {
      "text/plain": [
       "(5, 9)"
      ]
     },
     "execution_count": 51,
     "metadata": {},
     "output_type": "execute_result"
    }
   ],
   "source": [
    "a.shape"
   ]
  },
  {
   "cell_type": "code",
   "execution_count": 52,
   "id": "c67f4f85",
   "metadata": {},
   "outputs": [
    {
     "name": "stdout",
     "output_type": "stream",
     "text": [
      "   Glucose  BloodPressure   BMI\n",
      "0      148             72  33.6\n",
      "1       85             66  26.6\n",
      "2      183             64  23.3\n",
      "3       89             66  28.1\n",
      "4      137             40  43.1\n"
     ]
    }
   ],
   "source": [
    "b=a[['Glucose','BloodPressure','BMI']]\n",
    "print(b)"
   ]
  },
  {
   "cell_type": "code",
   "execution_count": 53,
   "id": "c97dd1aa",
   "metadata": {},
   "outputs": [
    {
     "name": "stdout",
     "output_type": "stream",
     "text": [
      "          Glucose  BloodPressure        BMI\n",
      "count    5.000000       5.000000   5.000000\n",
      "mean   128.400000      61.600000  30.940000\n",
      "std     41.458413      12.441865   7.749387\n",
      "min     85.000000      40.000000  23.300000\n",
      "25%     89.000000      64.000000  26.600000\n",
      "50%    137.000000      66.000000  28.100000\n",
      "75%    148.000000      66.000000  33.600000\n",
      "max    183.000000      72.000000  43.100000\n"
     ]
    }
   ],
   "source": [
    "print(b.describe())"
   ]
  },
  {
   "cell_type": "code",
   "execution_count": 54,
   "id": "5e6998e4",
   "metadata": {},
   "outputs": [
    {
     "data": {
      "image/png": "[encoded data removed]",
      "text/plain": [
       "<Figure size 432x288 with 1 Axes>"
      ]
     },
     "metadata": {
      "needs_background": "light"
     },
     "output_type": "display_data"
    }
   ],
   "source": [
    "import matplotlib.pyplot as plt\n",
    "a['Glucose'].plot(kind='bar')\n",
    "plt.title(\"Bar Plot\")\n",
    "plt.xlabel(\"person\")\n",
    "plt.ylabel(\"glucose val\")\n",
    "plt.show()"
   ]
  },
  {
   "cell_type": "code",
   "execution_count": 55,
   "id": "7c467d63",
   "metadata": {},
   "outputs": [
    {
     "data": {
      "image/png": "[encoded data removed]",
      "text/plain": [
       "<Figure size 432x288 with 1 Axes>"
      ]
     },
     "metadata": {
      "needs_background": "light"
     },
     "output_type": "display_data"
    }
   ],
   "source": [
    "plt.scatter(df['Glucose'],df['BloodPressure'])\n",
    "plt.title(\"Scatter Plot\")\n",
    "plt.xlabel(\"Glucose\")\n",
    "plt.ylabel(\"BP\")\n",
    "plt.show()"
   ]
  },
  {
   "cell_type": "code",
   "execution_count": 9,
   "id": "607594db",
   "metadata": {},
   "outputs": [
    {
     "data": {
      "image/png": "[encoded data removed]",
      "text/plain": [
       "<Figure size 432x288 with 1 Axes>"
      ]
     },
     "metadata": {
      "needs_background": "light"
     },
     "output_type": "display_data"
    }
   ],
   "source": [
    "import pandas as pd\n",
    "import matplotlib.pyplot as plt\n",
    "plt.hist(df['Glucose'])\n",
    "plt.title(\"Histogram\")\n",
    "plt.show()"
   ]
  },
  {
   "cell_type": "code",
   "execution_count": 10,
   "id": "94e6bb92",
   "metadata": {},
   "outputs": [
    {
     "data": {
      "image/png": "[encoded data removed]",
      "text/plain": [
       "<Figure size 432x288 with 1 Axes>"
      ]
     },
     "metadata": {
      "needs_background": "light"
     },
     "output_type": "display_data"
    }
   ],
   "source": [
    "import matplotlib.pyplot as plt\n",
    "import numpy as np\n",
    "plt.boxplot(b['Glucose'])\n",
    "plt.show()"
   ]
  },
  {
   "cell_type": "markdown",
   "id": "0d62c2cd",
   "metadata": {},
   "source": [
    "## First import the library required i.e; numpy which is mostly used for mathematical analysis. Considering arrays named array1 and array2, performed mathematical operations like addition, multiplication, squaring.\n",
    "## Now import pandas which is mostly used for data manipulation.Firstly we have taken data in the form of dictionary consisting of keys and values and to print a single row we have used loc().On the considered data we have performed sorting and filtering. similarly we have considered a data set with null values and performed the operations using isnull and fillna() to fill where the data is empty.Now we have imported matplotlib.pyplot for graphical analysis and plotted the line graph,bar graph,scatter plot, histogram and boxplot"
   ]
  },
  {
   "cell_type": "code",
   "execution_count": null,
   "id": "001f108b",
   "metadata": {},
   "outputs": [],
   "source": []
  }
 ],
 "metadata": {
  "kernelspec": {
   "display_name": "Python 3 (ipykernel)",
   "language": "python",
   "name": "python3"
  },
  "language_info": {
   "codemirror_mode": {
    "name": "ipython",
    "version": 3
   },
   "file_extension": ".py",
   "mimetype": "text/x-python",
   "name": "python",
   "nbconvert_exporter": "python",
   "pygments_lexer": "ipython3",
   "version": "3.9.7"
  }
 },
 "nbformat": 4,
 "nbformat_minor": 5
}
